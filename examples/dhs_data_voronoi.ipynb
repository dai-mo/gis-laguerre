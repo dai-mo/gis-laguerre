{
 "metadata": {
  "language_info": {
   "codemirror_mode": {
    "name": "ipython",
    "version": 3
   },
   "file_extension": ".py",
   "mimetype": "text/x-python",
   "name": "python",
   "nbconvert_exporter": "python",
   "pygments_lexer": "ipython3",
   "version": "3.8.5"
  },
  "orig_nbformat": 2,
  "kernelspec": {
   "name": "python385jvsc74a57bd069e3a38f95b613e39e96c6bdd54e7fba759b99c79d73c74e69d1359ec5f61231",
   "display_name": "Python 3.8.5 64-bit ('gis-laguerre-vY6mqvyG': pipenv)"
  }
 },
 "nbformat": 4,
 "nbformat_minor": 2,
 "cells": [
  {
   "cell_type": "code",
   "execution_count": 1,
   "metadata": {},
   "outputs": [],
   "source": [
    "import os\n",
    "from dotenv import load_dotenv\n",
    "load_dotenv()\n",
    "import sys \n",
    "sys.path.insert(1, '../src/')"
   ]
  },
  {
   "cell_type": "code",
   "execution_count": 2,
   "metadata": {},
   "outputs": [],
   "source": [
    "import dhs_data as dd\n",
    "import matplotlib.pyplot as plt \n",
    "%matplotlib qt"
   ]
  },
  {
   "cell_type": "code",
   "execution_count": 3,
   "metadata": {},
   "outputs": [],
   "source": [
    "dhs_geo_file = os.environ.get(\"DHS_DATA_DIR\") + \"/IAGE71FL_geographic_data/IAGE71FL.shp\""
   ]
  },
  {
   "cell_type": "code",
   "execution_count": 4,
   "metadata": {},
   "outputs": [],
   "source": [
    "dhs_geo_data = dd.DHSGeographicData(dhs_geo_file)"
   ]
  },
  {
   "cell_type": "code",
   "execution_count": 5,
   "metadata": {},
   "outputs": [],
   "source": [
    "dhs_geo_data.clean()"
   ]
  },
  {
   "cell_type": "code",
   "execution_count": 6,
   "metadata": {},
   "outputs": [
    {
     "output_type": "execute_result",
     "data": {
      "text/plain": [
       "((28526, 21), (28395, 21))"
      ]
     },
     "metadata": {},
     "execution_count": 6
    }
   ],
   "source": [
    "dhs_geo_data.country_gdf.shape, dhs_geo_data.country_cleaned_gdf.shape"
   ]
  },
  {
   "cell_type": "code",
   "execution_count": 7,
   "metadata": {},
   "outputs": [],
   "source": [
    "dhs_geo_data.extract_dhs()"
   ]
  },
  {
   "cell_type": "code",
   "execution_count": 8,
   "metadata": {},
   "outputs": [
    {
     "output_type": "execute_result",
     "data": {
      "text/plain": [
       "            DHSID  DHSCLUST  ADM1DHS  DHSREGCO     DHSREGNA URBAN_RURA  \\\n",
       "0  IA201400310502  310502.0     31.0     602.0  Thiruvallur          R   \n",
       "1  IA201400310190  310190.0     31.0     602.0  Thiruvallur          R   \n",
       "2  IA201400310070  310070.0     31.0     602.0  Thiruvallur          R   \n",
       "3  IA201400310716  310716.0     31.0     602.0  Thiruvallur          R   \n",
       "4  IA201400310592  310592.0     31.0     602.0  Thiruvallur          R   \n",
       "\n",
       "      LATNUM    LONGNUM  ALT_DEM  DATUM                   geometry  \n",
       "0  13.320202  80.010414     39.0  WGS84  POINT (80.01041 13.32020)  \n",
       "1  13.118380  79.803917     56.0  WGS84  POINT (79.80392 13.11838)  \n",
       "2  13.147002  79.804755     44.0  WGS84  POINT (79.80475 13.14700)  \n",
       "3  13.263585  80.188453     14.0  WGS84  POINT (80.18845 13.26358)  \n",
       "4  13.261215  80.222348     18.0  WGS84  POINT (80.22235 13.26122)  "
      ],
      "text/html": "<div>\n<style scoped>\n    .dataframe tbody tr th:only-of-type {\n        vertical-align: middle;\n    }\n\n    .dataframe tbody tr th {\n        vertical-align: top;\n    }\n\n    .dataframe thead th {\n        text-align: right;\n    }\n</style>\n<table border=\"1\" class=\"dataframe\">\n  <thead>\n    <tr style=\"text-align: right;\">\n      <th></th>\n      <th>DHSID</th>\n      <th>DHSCLUST</th>\n      <th>ADM1DHS</th>\n      <th>DHSREGCO</th>\n      <th>DHSREGNA</th>\n      <th>URBAN_RURA</th>\n      <th>LATNUM</th>\n      <th>LONGNUM</th>\n      <th>ALT_DEM</th>\n      <th>DATUM</th>\n      <th>geometry</th>\n    </tr>\n  </thead>\n  <tbody>\n    <tr>\n      <th>0</th>\n      <td>IA201400310502</td>\n      <td>310502.0</td>\n      <td>31.0</td>\n      <td>602.0</td>\n      <td>Thiruvallur</td>\n      <td>R</td>\n      <td>13.320202</td>\n      <td>80.010414</td>\n      <td>39.0</td>\n      <td>WGS84</td>\n      <td>POINT (80.01041 13.32020)</td>\n    </tr>\n    <tr>\n      <th>1</th>\n      <td>IA201400310190</td>\n      <td>310190.0</td>\n      <td>31.0</td>\n      <td>602.0</td>\n      <td>Thiruvallur</td>\n      <td>R</td>\n      <td>13.118380</td>\n      <td>79.803917</td>\n      <td>56.0</td>\n      <td>WGS84</td>\n      <td>POINT (79.80392 13.11838)</td>\n    </tr>\n    <tr>\n      <th>2</th>\n      <td>IA201400310070</td>\n      <td>310070.0</td>\n      <td>31.0</td>\n      <td>602.0</td>\n      <td>Thiruvallur</td>\n      <td>R</td>\n      <td>13.147002</td>\n      <td>79.804755</td>\n      <td>44.0</td>\n      <td>WGS84</td>\n      <td>POINT (79.80475 13.14700)</td>\n    </tr>\n    <tr>\n      <th>3</th>\n      <td>IA201400310716</td>\n      <td>310716.0</td>\n      <td>31.0</td>\n      <td>602.0</td>\n      <td>Thiruvallur</td>\n      <td>R</td>\n      <td>13.263585</td>\n      <td>80.188453</td>\n      <td>14.0</td>\n      <td>WGS84</td>\n      <td>POINT (80.18845 13.26358)</td>\n    </tr>\n    <tr>\n      <th>4</th>\n      <td>IA201400310592</td>\n      <td>310592.0</td>\n      <td>31.0</td>\n      <td>602.0</td>\n      <td>Thiruvallur</td>\n      <td>R</td>\n      <td>13.261215</td>\n      <td>80.222348</td>\n      <td>18.0</td>\n      <td>WGS84</td>\n      <td>POINT (80.22235 13.26122)</td>\n    </tr>\n  </tbody>\n</table>\n</div>"
     },
     "metadata": {},
     "execution_count": 8
    }
   ],
   "source": [
    "dhs_geo_data.country_extracted_gdf.head()"
   ]
  },
  {
   "cell_type": "code",
   "execution_count": 9,
   "metadata": {},
   "outputs": [
    {
     "output_type": "stream",
     "name": "stderr",
     "text": [
      "/home/sghosh/.virtualenvs/gis-laguerre-vY6mqvyG/lib/python3.8/site-packages/geopandas/geodataframe.py:1322: SettingWithCopyWarning: \nA value is trying to be set on a copy of a slice from a DataFrame.\nTry using .loc[row_indexer,col_indexer] = value instead\n\nSee the caveats in the documentation: https://pandas.pydata.org/pandas-docs/stable/user_guide/indexing.html#returning-a-view-versus-a-copy\n  super(GeoDataFrame, self).__setitem__(key, value)\n"
     ]
    }
   ],
   "source": [
    "(sites, weights) = dhs_geo_data.get_sites_and_radii()"
   ]
  },
  {
   "cell_type": "code",
   "execution_count": 10,
   "metadata": {},
   "outputs": [
    {
     "output_type": "execute_result",
     "data": {
      "text/plain": [
       "            DHSID  DHSCLUST  ADM1DHS  DHSREGCO     DHSREGNA URBAN_RURA  \\\n",
       "0  IA201400310502  310502.0     31.0     602.0  Thiruvallur          R   \n",
       "1  IA201400310190  310190.0     31.0     602.0  Thiruvallur          R   \n",
       "2  IA201400310070  310070.0     31.0     602.0  Thiruvallur          R   \n",
       "3  IA201400310716  310716.0     31.0     602.0  Thiruvallur          R   \n",
       "4  IA201400310592  310592.0     31.0     602.0  Thiruvallur          R   \n",
       "\n",
       "      LATNUM    LONGNUM  ALT_DEM  DATUM                   geometry    WEIGHT  \n",
       "0  13.320202  80.010414     39.0  WGS84  POINT (80.01041 13.32020)  0.045045  \n",
       "1  13.118380  79.803917     56.0  WGS84  POINT (79.80392 13.11838)  0.045045  \n",
       "2  13.147002  79.804755     44.0  WGS84  POINT (79.80475 13.14700)  0.045045  \n",
       "3  13.263585  80.188453     14.0  WGS84  POINT (80.18845 13.26358)  0.045045  \n",
       "4  13.261215  80.222348     18.0  WGS84  POINT (80.22235 13.26122)  0.045045  "
      ],
      "text/html": "<div>\n<style scoped>\n    .dataframe tbody tr th:only-of-type {\n        vertical-align: middle;\n    }\n\n    .dataframe tbody tr th {\n        vertical-align: top;\n    }\n\n    .dataframe thead th {\n        text-align: right;\n    }\n</style>\n<table border=\"1\" class=\"dataframe\">\n  <thead>\n    <tr style=\"text-align: right;\">\n      <th></th>\n      <th>DHSID</th>\n      <th>DHSCLUST</th>\n      <th>ADM1DHS</th>\n      <th>DHSREGCO</th>\n      <th>DHSREGNA</th>\n      <th>URBAN_RURA</th>\n      <th>LATNUM</th>\n      <th>LONGNUM</th>\n      <th>ALT_DEM</th>\n      <th>DATUM</th>\n      <th>geometry</th>\n      <th>WEIGHT</th>\n    </tr>\n  </thead>\n  <tbody>\n    <tr>\n      <th>0</th>\n      <td>IA201400310502</td>\n      <td>310502.0</td>\n      <td>31.0</td>\n      <td>602.0</td>\n      <td>Thiruvallur</td>\n      <td>R</td>\n      <td>13.320202</td>\n      <td>80.010414</td>\n      <td>39.0</td>\n      <td>WGS84</td>\n      <td>POINT (80.01041 13.32020)</td>\n      <td>0.045045</td>\n    </tr>\n    <tr>\n      <th>1</th>\n      <td>IA201400310190</td>\n      <td>310190.0</td>\n      <td>31.0</td>\n      <td>602.0</td>\n      <td>Thiruvallur</td>\n      <td>R</td>\n      <td>13.118380</td>\n      <td>79.803917</td>\n      <td>56.0</td>\n      <td>WGS84</td>\n      <td>POINT (79.80392 13.11838)</td>\n      <td>0.045045</td>\n    </tr>\n    <tr>\n      <th>2</th>\n      <td>IA201400310070</td>\n      <td>310070.0</td>\n      <td>31.0</td>\n      <td>602.0</td>\n      <td>Thiruvallur</td>\n      <td>R</td>\n      <td>13.147002</td>\n      <td>79.804755</td>\n      <td>44.0</td>\n      <td>WGS84</td>\n      <td>POINT (79.80475 13.14700)</td>\n      <td>0.045045</td>\n    </tr>\n    <tr>\n      <th>3</th>\n      <td>IA201400310716</td>\n      <td>310716.0</td>\n      <td>31.0</td>\n      <td>602.0</td>\n      <td>Thiruvallur</td>\n      <td>R</td>\n      <td>13.263585</td>\n      <td>80.188453</td>\n      <td>14.0</td>\n      <td>WGS84</td>\n      <td>POINT (80.18845 13.26358)</td>\n      <td>0.045045</td>\n    </tr>\n    <tr>\n      <th>4</th>\n      <td>IA201400310592</td>\n      <td>310592.0</td>\n      <td>31.0</td>\n      <td>602.0</td>\n      <td>Thiruvallur</td>\n      <td>R</td>\n      <td>13.261215</td>\n      <td>80.222348</td>\n      <td>18.0</td>\n      <td>WGS84</td>\n      <td>POINT (80.22235 13.26122)</td>\n      <td>0.045045</td>\n    </tr>\n  </tbody>\n</table>\n</div>"
     },
     "metadata": {},
     "execution_count": 10
    }
   ],
   "source": [
    "dhs_geo_data.country_extracted_gdf.head()"
   ]
  },
  {
   "cell_type": "code",
   "execution_count": 11,
   "metadata": {},
   "outputs": [],
   "source": [
    "import laguerre_voronoi_2d as lv2d"
   ]
  },
  {
   "cell_type": "code",
   "execution_count": 12,
   "metadata": {},
   "outputs": [],
   "source": [
    "# Compute the power triangulation of the circles\n",
    "tri_list, vor_vert = lv2d.get_power_triangulation(sites, weights)"
   ]
  },
  {
   "cell_type": "code",
   "execution_count": 13,
   "metadata": {},
   "outputs": [],
   "source": [
    "# Compute the Voronoi cells\n",
    "voronoi_cell_map = lv2d.get_voronoi_cells(sites, vor_vert, tri_list)"
   ]
  },
  {
   "cell_type": "code",
   "execution_count": 14,
   "metadata": {},
   "outputs": [],
   "source": [
    "lv2d.display(sites, weights, tri_list, voronoi_cell_map)"
   ]
  },
  {
   "cell_type": "code",
   "execution_count": null,
   "metadata": {},
   "outputs": [],
   "source": []
  }
 ]
}